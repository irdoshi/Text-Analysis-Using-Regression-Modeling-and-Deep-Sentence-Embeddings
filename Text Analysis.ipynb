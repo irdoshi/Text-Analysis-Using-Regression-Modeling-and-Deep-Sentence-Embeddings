{
  "cells": [
    {
      "cell_type": "markdown",
      "metadata": {
        "id": "I35eMlezVhZN"
      },
      "source": [
        "Part 1: Set-up\n",
        "\n",
        "1."
      ]
    },
    {
      "cell_type": "code",
      "execution_count": 1,
      "metadata": {
        "id": "rvaujpR4VA0H"
      },
      "outputs": [],
      "source": [
        "from numpy.random import seed\n",
        "import tensorflow as tf\n",
        "seed(1234)\n",
        "tf.random.set_seed(1234)"
      ]
    },
    {
      "cell_type": "markdown",
      "metadata": {
        "id": "fNtk9OVLabCz"
      },
      "source": [
        "2."
      ]
    },
    {
      "cell_type": "code",
      "execution_count": 2,
      "metadata": {
        "colab": {
          "base_uri": "https://localhost:8080/"
        },
        "id": "iLtfMr2kWwC4",
        "outputId": "7e69b4cf-1702-4b82-9645-224950ed1b66"
      },
      "outputs": [
        {
          "output_type": "stream",
          "name": "stdout",
          "text": [
            "Train data size: (1515, 2)\n",
            "Test data size: (268, 2)\n"
          ]
        }
      ],
      "source": [
        "import pandas as pd\n",
        "train = pd.read_csv('/content/drive/MyDrive/IMT575_HW3_train.tsv', sep=\"\\t\", header=None)\n",
        "test = pd.read_csv('/content/drive/MyDrive/IMT575_HW3_test.tsv', sep=\"\\t\",header=None)\n",
        "train.columns=[\"score\",\"text\"]\n",
        "test.columns=[\"score\",\"text\"]\n",
        "#train.head()\n",
        "#test.head()\n",
        "print(\"Train data size:\", train.shape)\n",
        "print(\"Test data size:\",test.shape)\n",
        "\n"
      ]
    },
    {
      "cell_type": "markdown",
      "metadata": {
        "id": "XOcXlUkccKcs"
      },
      "source": [
        "3."
      ]
    },
    {
      "cell_type": "code",
      "execution_count": 3,
      "metadata": {
        "colab": {
          "base_uri": "https://localhost:8080/",
          "height": 947
        },
        "id": "j-4os19mcLds",
        "outputId": "b21be4a9-7740-4f9b-f6a3-853d04685523"
      },
      "outputs": [
        {
          "output_type": "stream",
          "name": "stdout",
          "text": [
            "Distribution of training labels:\n",
            "8.0     581\n",
            "9.0     282\n",
            "10.0    276\n",
            "7.0     113\n",
            "6.0      94\n",
            "11.0     90\n",
            "12.0     38\n",
            "5.0      16\n",
            "4.0      14\n",
            "2.0      10\n",
            "3.0       1\n",
            "Name: score, dtype: int64\n",
            "Distribution of test labels:\n",
            "8.0     106\n",
            "9.0      52\n",
            "10.0     40\n",
            "7.0      22\n",
            "11.0     19\n",
            "6.0      16\n",
            "12.0      9\n",
            "4.0       3\n",
            "5.0       1\n",
            "Name: score, dtype: int64\n"
          ]
        },
        {
          "output_type": "display_data",
          "data": {
            "text/plain": [
              "<Figure size 1000x500 with 2 Axes>"
            ],
            "image/png": "[encoded data removed]"
          },
          "metadata": {}
        },
        {
          "output_type": "stream",
          "name": "stdout",
          "text": [
            "The distribution of labels is almost the same between the training and test datasets.\n",
            "This will help us ensure that the model can generalize well to new data. \n",
            "Significant difference between the distribution of the two datasets can lead to poor performance on the test set.\n"
          ]
        }
      ],
      "source": [
        "import matplotlib.pyplot as plt\n",
        "\n",
        "print(\"Distribution of training labels:\")\n",
        "print(train['score'].value_counts())\n",
        "\n",
        "print(\"Distribution of test labels:\")\n",
        "print(test['score'].value_counts())\n",
        "\n",
        "\n",
        "fig, axs = plt.subplots(1, 2, figsize=(10, 5))\n",
        "axs[0].bar(train['score'].value_counts().index, train['score'].value_counts().values)\n",
        "axs[0].set_title('Training Labels')\n",
        "axs[1].bar(test['score'].value_counts().index, test['score'].value_counts().values)\n",
        "axs[1].set_title('Test Labels')\n",
        "plt.show()\n",
        "\n",
        "\n",
        "print(\"The distribution of labels is almost the same between the training and test datasets.\\nThis will help us ensure that the model can generalize well to new data. \\nSignificant difference between the distribution of the two datasets can lead to poor performance on the test set.\")"
      ]
    },
    {
      "cell_type": "markdown",
      "metadata": {
        "id": "cpRjEHebh05_"
      },
      "source": [
        "4.\n"
      ]
    },
    {
      "cell_type": "code",
      "execution_count": 4,
      "metadata": {
        "colab": {
          "base_uri": "https://localhost:8080/"
        },
        "id": "bAmtefqN0I6Y",
        "outputId": "ebca4759-1b7f-4377-8e5c-a2f2924fffb0"
      },
      "outputs": [
        {
          "output_type": "stream",
          "name": "stderr",
          "text": [
            "[nltk_data] Downloading package stopwords to /root/nltk_data...\n",
            "[nltk_data]   Unzipping corpora/stopwords.zip.\n"
          ]
        },
        {
          "output_type": "execute_result",
          "data": {
            "text/plain": [
              "True"
            ]
          },
          "metadata": {},
          "execution_count": 4
        }
      ],
      "source": [
        "import string\n",
        "import re\n",
        "import nltk\n",
        "from nltk.corpus import stopwords\n",
        "nltk.download('stopwords')"
      ]
    },
    {
      "cell_type": "code",
      "execution_count": 5,
      "metadata": {
        "colab": {
          "base_uri": "https://localhost:8080/",
          "height": 280
        },
        "id": "BwX4WSWgh3BD",
        "outputId": "80de1424-83e1-4cc0-d1f6-aa1f21df8df8"
      },
      "outputs": [
        {
          "output_type": "stream",
          "name": "stdout",
          "text": [
            "\n",
            "I removed the caps1 and caps2 words as they didn't provide much value in determining how well the essay was written\n",
            "\n"
          ]
        },
        {
          "output_type": "execute_result",
          "data": {
            "text/plain": [
              "   score                                               text\n",
              "0    8.0  dear people world use coumputers know computer...\n",
              "1   10.0  dear newspaper believe advances technology man...\n",
              "2    6.0  think use computers help selfs using computer ...\n",
              "3    9.0  want child suceed life computers valuable ever...\n",
              "4    8.0  dear local newspaper computers important peopl..."
            ],
            "text/html": [
              "\n",
              "  <div id=\"df-dbe57027-d8af-4d1a-924e-051e94ac8be2\">\n",
              "    <div class=\"colab-df-container\">\n",
              "      <div>\n",
              "<style scoped>\n",
              "    .dataframe tbody tr th:only-of-type {\n",
              "        vertical-align: middle;\n",
              "    }\n",
              "\n",
              "    .dataframe tbody tr th {\n",
              "        vertical-align: top;\n",
              "    }\n",
              "\n",
              "    .dataframe thead th {\n",
              "        text-align: right;\n",
              "    }\n",
              "</style>\n",
              "<table border=\"1\" class=\"dataframe\">\n",
              "  <thead>\n",
              "    <tr style=\"text-align: right;\">\n",
              "      <th></th>\n",
              "      <th>score</th>\n",
              "      <th>text</th>\n",
              "    </tr>\n",
              "  </thead>\n",
              "  <tbody>\n",
              "    <tr>\n",
              "      <th>0</th>\n",
              "      <td>8.0</td>\n",
              "      <td>dear people world use coumputers know computer...</td>\n",
              "    </tr>\n",
              "    <tr>\n",
              "      <th>1</th>\n",
              "      <td>10.0</td>\n",
              "      <td>dear newspaper believe advances technology man...</td>\n",
              "    </tr>\n",
              "    <tr>\n",
              "      <th>2</th>\n",
              "      <td>6.0</td>\n",
              "      <td>think use computers help selfs using computer ...</td>\n",
              "    </tr>\n",
              "    <tr>\n",
              "      <th>3</th>\n",
              "      <td>9.0</td>\n",
              "      <td>want child suceed life computers valuable ever...</td>\n",
              "    </tr>\n",
              "    <tr>\n",
              "      <th>4</th>\n",
              "      <td>8.0</td>\n",
              "      <td>dear local newspaper computers important peopl...</td>\n",
              "    </tr>\n",
              "  </tbody>\n",
              "</table>\n",
              "</div>\n",
              "      <button class=\"colab-df-convert\" onclick=\"convertToInteractive('df-dbe57027-d8af-4d1a-924e-051e94ac8be2')\"\n",
              "              title=\"Convert this dataframe to an interactive table.\"\n",
              "              style=\"display:none;\">\n",
              "        \n",
              "  <svg xmlns=\"http://www.w3.org/2000/svg\" height=\"24px\"viewBox=\"0 0 24 24\"\n",
              "       width=\"24px\">\n",
              "    <path d=\"M0 0h24v24H0V0z\" fill=\"none\"/>\n",
              "    <path d=\"M18.56 5.44l.94 2.06.94-2.06 2.06-.94-2.06-.94-.94-2.06-.94 2.06-2.06.94zm-11 1L8.5 8.5l.94-2.06 2.06-.94-2.06-.94L8.5 2.5l-.94 2.06-2.06.94zm10 10l.94 2.06.94-2.06 2.06-.94-2.06-.94-.94-2.06-.94 2.06-2.06.94z\"/><path d=\"M17.41 7.96l-1.37-1.37c-.4-.4-.92-.59-1.43-.59-.52 0-1.04.2-1.43.59L10.3 9.45l-7.72 7.72c-.78.78-.78 2.05 0 2.83L4 21.41c.39.39.9.59 1.41.59.51 0 1.02-.2 1.41-.59l7.78-7.78 2.81-2.81c.8-.78.8-2.07 0-2.86zM5.41 20L4 18.59l7.72-7.72 1.47 1.35L5.41 20z\"/>\n",
              "  </svg>\n",
              "      </button>\n",
              "      \n",
              "  <style>\n",
              "    .colab-df-container {\n",
              "      display:flex;\n",
              "      flex-wrap:wrap;\n",
              "      gap: 12px;\n",
              "    }\n",
              "\n",
              "    .colab-df-convert {\n",
              "      background-color: #E8F0FE;\n",
              "      border: none;\n",
              "      border-radius: 50%;\n",
              "      cursor: pointer;\n",
              "      display: none;\n",
              "      fill: #1967D2;\n",
              "      height: 32px;\n",
              "      padding: 0 0 0 0;\n",
              "      width: 32px;\n",
              "    }\n",
              "\n",
              "    .colab-df-convert:hover {\n",
              "      background-color: #E2EBFA;\n",
              "      box-shadow: 0px 1px 2px rgba(60, 64, 67, 0.3), 0px 1px 3px 1px rgba(60, 64, 67, 0.15);\n",
              "      fill: #174EA6;\n",
              "    }\n",
              "\n",
              "    [theme=dark] .colab-df-convert {\n",
              "      background-color: #3B4455;\n",
              "      fill: #D2E3FC;\n",
              "    }\n",
              "\n",
              "    [theme=dark] .colab-df-convert:hover {\n",
              "      background-color: #434B5C;\n",
              "      box-shadow: 0px 1px 3px 1px rgba(0, 0, 0, 0.15);\n",
              "      filter: drop-shadow(0px 1px 2px rgba(0, 0, 0, 0.3));\n",
              "      fill: #FFFFFF;\n",
              "    }\n",
              "  </style>\n",
              "\n",
              "      <script>\n",
              "        const buttonEl =\n",
              "          document.querySelector('#df-dbe57027-d8af-4d1a-924e-051e94ac8be2 button.colab-df-convert');\n",
              "        buttonEl.style.display =\n",
              "          google.colab.kernel.accessAllowed ? 'block' : 'none';\n",
              "\n",
              "        async function convertToInteractive(key) {\n",
              "          const element = document.querySelector('#df-dbe57027-d8af-4d1a-924e-051e94ac8be2');\n",
              "          const dataTable =\n",
              "            await google.colab.kernel.invokeFunction('convertToInteractive',\n",
              "                                                     [key], {});\n",
              "          if (!dataTable) return;\n",
              "\n",
              "          const docLinkHtml = 'Like what you see? Visit the ' +\n",
              "            '<a target=\"_blank\" href=https://colab.research.google.com/notebooks/data_table.ipynb>data table notebook</a>'\n",
              "            + ' to learn more about interactive tables.';\n",
              "          element.innerHTML = '';\n",
              "          dataTable['output_type'] = 'display_data';\n",
              "          await google.colab.output.renderOutput(dataTable, element);\n",
              "          const docLink = document.createElement('div');\n",
              "          docLink.innerHTML = docLinkHtml;\n",
              "          element.appendChild(docLink);\n",
              "        }\n",
              "      </script>\n",
              "    </div>\n",
              "  </div>\n",
              "  "
            ]
          },
          "metadata": {},
          "execution_count": 5
        }
      ],
      "source": [
        "#to lowercase\n",
        "train['text']=train['text'].str.lower()\n",
        "#train.head()\n",
        "\n",
        "#remove punctuation\n",
        "def remove_punctuation(text):\n",
        "    #replace punctuation with whitespace\n",
        "    text = re.sub('[%s]' % re.escape(string.punctuation), ' ', text)\n",
        "    #remove extra whitespace\n",
        "    text = re.sub('\\s+', ' ', text).strip()\n",
        "    return text\n",
        "\n",
        "train['text'] = train['text'].apply(remove_punctuation)\n",
        "#train.head()\n",
        "\n",
        "# Remove stopwords and domain-specific stop words\n",
        "stop_words = set(stopwords.words('english'))\n",
        "domain_stop_words = [\"caps1\", \"caps2\", \"caps1s\"]\n",
        "stop_words.update(domain_stop_words)\n",
        "\n",
        "\n",
        "def stopwords_remove(text):\n",
        "    text = \" \".join([word for word in text.split() if word not in stop_words])\n",
        "    return text\n",
        "\n",
        "train['text'] = train['text'].apply(stopwords_remove)\n",
        "\n",
        "print(\"\\nI removed the caps1 and caps2 words as they didn't provide much value in determining how well the essay was written\\n\")\n",
        "train.head(5)"
      ]
    },
    {
      "cell_type": "markdown",
      "metadata": {
        "id": "L6ea55uRtQ22"
      },
      "source": [
        "5."
      ]
    },
    {
      "cell_type": "code",
      "execution_count": 6,
      "metadata": {
        "colab": {
          "base_uri": "https://localhost:8080/"
        },
        "id": "c39dGLuT0y_o",
        "outputId": "75a76724-06b7-4cc1-f631-f519f46a5a45"
      },
      "outputs": [
        {
          "output_type": "stream",
          "name": "stderr",
          "text": [
            "[nltk_data] Downloading package wordnet to /root/nltk_data...\n"
          ]
        },
        {
          "output_type": "execute_result",
          "data": {
            "text/plain": [
              "True"
            ]
          },
          "metadata": {},
          "execution_count": 6
        }
      ],
      "source": [
        "import nltk\n",
        "nltk.download('wordnet')"
      ]
    },
    {
      "cell_type": "code",
      "execution_count": 7,
      "metadata": {
        "colab": {
          "base_uri": "https://localhost:8080/"
        },
        "id": "BM9RJrDCtRtR",
        "outputId": "6209b13a-25b0-4ed0-920a-72f7b6da2361"
      },
      "outputs": [
        {
          "output_type": "stream",
          "name": "stdout",
          "text": [
            "Before: dear people world use coumputers know computers used like surching internet games work school people think computers good use help teach hand eye coordination learn places world talk people online num1 grade mystic middle school think computers good people think ever heard computer camps kids go addicted computer camp kids pulled away computer pritty much forced join gropes activitys like fishing working together solve mystery camp pritty much known reliable kids addicted computer another reason computers bad internet internet dangerous place chat people dont even know never know people could messed head try find caps4 like come always carful talk wise could get nothing eve really goes right computers alway getting slower slower every time use every two years kid parent could go throw computer also computer doesnt right caps3 could get vins cost person hundred dollars get fixed thing could happen time computer caps4 could die work data gone forever explaines part computers people think different would want end like one people camp computer much never know could forever never found alread know caps5 much coomputers get fixed might find caps4 hard way think computers cause truble peolple\n",
            "After: dear people world use coumputers know computer used like surching internet game work school people think computer good use help teach hand eye coordination learn place world talk people online num1 grade mystic middle school think computer good people think ever heard computer camp kid go addicted computer camp kid pulled away computer pritty much forced join grope activity like fishing working together solve mystery camp pritty much known reliable kid addicted computer another reason computer bad internet internet dangerous place chat people dont even know never know people could messed head try find caps4 like come always carful talk wise could get nothing eve really go right computer alway getting slower slower every time use every two year kid parent could go throw computer also computer doesnt right caps3 could get vins cost person hundred dollar get fixed thing could happen time computer caps4 could die work data gone forever explaines part computer people think different would want end like one people camp computer much never know could forever never found alread know caps5 much coomputers get fixed might find caps4 hard way think computer cause truble peolple\n",
            "Before: dear newspaper believe advances technology many positive effects computers computers great people ages computers teach handeye coordination allow people learn information world lastly computers allow people communicate internet advances technology improve society way life around globe advances technology amazing computers show advances greatly simple use computer one learn great handeye coordination skills typing skills great example typing skills needed almost everyone world without computers one would skills young child go computer play game learn basic typing handeye coordination skills jump start coordination skills rest life advances technology great advances computers also allow people learn worldwide information many times school students asked report different country would hard report without computer student would need go different books find specific information needed internet project get done lot faster typing whatever need know family vacation youve always wanted go need idea go use internet need type vacation spots click enter instantly hundreds choices right front makes life lot simpler remember last time mom dad went business trip couldnt talk busy fix internet communicate hookup computer instantly say good time1 hows going friend instant message easy seem like standing right next matter seconds conclusion computers advances technology great benefit everyone world computers tech handeye coordination allow one learn information around world allow communication internet happen instantly writers editors newspaper please agree topic advances technology add posotive effects way life support advances todays technology help improve life\n",
            "After: dear newspaper believe advance technology many positive effect computer computer great people age computer teach handeye coordination allow people learn information world lastly computer allow people communicate internet advance technology improve society way life around globe advance technology amazing computer show advance greatly simple use computer one learn great handeye coordination skill typing skill great example typing skill needed almost everyone world without computer one would skill young child go computer play game learn basic typing handeye coordination skill jump start coordination skill rest life advance technology great advance computer also allow people learn worldwide information many time school student asked report different country would hard report without computer student would need go different book find specific information needed internet project get done lot faster typing whatever need know family vacation youve always wanted go need idea go use internet need type vacation spot click enter instantly hundred choice right front make life lot simpler remember last time mom dad went business trip couldnt talk busy fix internet communicate hookup computer instantly say good time1 hows going friend instant message easy seem like standing right next matter second conclusion computer advance technology great benefit everyone world computer tech handeye coordination allow one learn information around world allow communication internet happen instantly writer editor newspaper please agree topic advance technology add posotive effect way life support advance today technology help improve life\n",
            "Before: think use computers help selfs using computer first use computers wanted take notes go computer write computers faster writing computer type use computer look ever want look example teacher ask look giraffe place find giraffe go computer search giraffe thats reason look things easier look things instead looking way lastely project involves pictures dont know find go computer find searching done found everything see let students use computers insde classroomschools get easy help\n",
            "After: think use computer help self using computer first use computer wanted take note go computer write computer faster writing computer type use computer look ever want look example teacher ask look giraffe place find giraffe go computer search giraffe thats reason look thing easier look thing instead looking way lastely project involves picture dont know find go computer find searching done found everything see let student use computer insde classroomschools get easy help\n",
            "Before: want child suceed life computers valuable everyday life computers help children get education independent hows anyane tell new use computer get college take notes quickly fall behind whycomputers important everyday life computers important child get proper education need percent1 children uses thev internet students studies ones grade ahead best classmates dr person1 computer cope says using computer research topic went leperdy date1 num1 date1 computers see computers valuable items used everyday life computers important everyday life helps children independent learn use different parts internet percent1 percent2 children use internet likely succeed college know websites go get percent1 chance children succeed college get higher paying jobs theyve person1 computer expect says son organization1 caps3 smart caps3 always computer looking new facts ideas popped head caps3 student hard get computers valuable everyday life computers impotant look sites help eat health foods percent3 adults health foods likely live even num2 years life bodies health conditions theyve eating fruits drinking keep bones strong fall older see using internet helpful used right way using internet help successful person want life\n",
            "After: want child suceed life computer valuable everyday life computer help child get education independent hows anyane tell new use computer get college take note quickly fall behind whycomputers important everyday life computer important child get proper education need percent1 child us thev internet student study one grade ahead best classmate dr person1 computer cope say using computer research topic went leperdy date1 num1 date1 computer see computer valuable item used everyday life computer important everyday life help child independent learn use different part internet percent1 percent2 child use internet likely succeed college know website go get percent1 chance child succeed college get higher paying job theyve person1 computer expect say son organization1 caps3 smart caps3 always computer looking new fact idea popped head caps3 student hard get computer valuable everyday life computer impotant look site help eat health food percent3 adult health food likely live even num2 year life body health condition theyve eating fruit drinking keep bone strong fall older see using internet helpful used right way using internet help successful person want life\n",
            "Before: dear local newspaper computers important people everyone uses used isnt bad computer still excersise able things everyday lets say need look something thing always go information computer people schools industries homes use time teenagers usually go computer talk friends maybe play games know dont waste time bored day excersising active indeed good teenagers really look even though dont push away computer always dont anymore homework finish running around neighborhood friends cant imagine life would like coming home soccer practice done homework computer one first places run sit back relax computers known friends wont hurt us give us need want reaserch good example everyone uses computer find whatever people looking theyre done reaserching little fun games friends believe main purpose computers information whenever get home school finish homework stretch little cheerleading whatch go computer im bored im active im working excersising nothing make time occupied everyone im one yes computers square box keyboard dont push away peoples common lives see arent say wont rot peoples brain anything reason office living room bedroom people like uses needs\n",
            "After: dear local newspaper computer important people everyone us used isnt bad computer still excersise able thing everyday let say need look something thing always go information computer people school industry home use time teenager usually go computer talk friend maybe play game know dont waste time bored day excersising active indeed good teenager really look even though dont push away computer always dont anymore homework finish running around neighborhood friend cant imagine life would like coming home soccer practice done homework computer one first place run sit back relax computer known friend wont hurt u give u need want reaserch good example everyone us computer find whatever people looking theyre done reaserching little fun game friend believe main purpose computer information whenever get home school finish homework stretch little cheerleading whatch go computer im bored im active im working excersising nothing make time occupied everyone im one yes computer square box keyboard dont push away people common life see arent say wont rot people brain anything reason office living room bedroom people like us need\n",
            "\n",
            "In the first column we see that the WordNetLemmatizer lemmatizes 'computers' to 'computer' and 'games' to 'game'.\n",
            "When the spelling of computer is wrong, the lemmatizer is unable to identify it as a word that could be lemmatized.\n",
            "It also lemmatizes 'uses' to 'us' in the 5th column\n"
          ]
        }
      ],
      "source": [
        "from nltk.stem import WordNetLemmatizer\n",
        "\n",
        "lemmatizer = WordNetLemmatizer()\n",
        "\n",
        "def lemmatize_text(text):\n",
        "    words = text.split()\n",
        "    lemmatized_words = [lemmatizer.lemmatize(word) for word in words]\n",
        "    lemmatized_text = ' '.join(lemmatized_words)\n",
        "    return lemmatized_text\n",
        "\n",
        "# lemmatize the 'text' column in the train dataframe\n",
        "train['text2'] = train['text'].apply(lemmatize_text)\n",
        "\n",
        "# print the first few observations before and after lemmatization\n",
        "for i in range(5):\n",
        "    print(f\"Before: {train['text'][i]}\")\n",
        "    print(f\"After: {train['text2'][i]}\")\n",
        "\n",
        "print(\"\\nIn the first column we see that the WordNetLemmatizer lemmatizes 'computers' to 'computer' and 'games' to 'game'.\\nWhen the spelling of computer is wrong, the lemmatizer is unable to identify it as a word that could be lemmatized.\\nIt also lemmatizes 'uses' to 'us' in the 5th column\")\n"
      ]
    },
    {
      "cell_type": "markdown",
      "metadata": {
        "id": "YbDFiGX13Lqq"
      },
      "source": [
        "6."
      ]
    },
    {
      "cell_type": "code",
      "execution_count": 8,
      "metadata": {
        "colab": {
          "base_uri": "https://localhost:8080/"
        },
        "id": "4IC-ehLK1XQ8",
        "outputId": "65f1cfb3-34c9-4098-fc94-7b296c8e9edc"
      },
      "outputs": [
        {
          "output_type": "stream",
          "name": "stdout",
          "text": [
            "Number of unique tokens: 2723\n",
            "Setting min_df=5 means that tokens that occur in fewer than 5 documents will be excluded, and setting max_df=0.5 means that tokens that occur in more than 50% of the documents will be excluded\n"
          ]
        }
      ],
      "source": [
        "#tokenization\n",
        "from sklearn.feature_extraction.text import CountVectorizer\n",
        "vectorizer = CountVectorizer(token_pattern=r'\\b\\w+\\b', min_df=5, max_df=0.5)\n",
        "train_tokens = vectorizer.fit_transform(train['text2'])\n",
        "print(\"Number of unique tokens:\", len(vectorizer.get_feature_names_out()))\n",
        "print(\"Setting min_df=5 means that tokens that occur in fewer than 5 documents will be excluded, and setting max_df=0.5 means that tokens that occur in more than 50% of the documents will be excluded\")\n"
      ]
    },
    {
      "cell_type": "markdown",
      "metadata": {
        "id": "gw75nPvKOs7u"
      },
      "source": [
        "7."
      ]
    },
    {
      "cell_type": "code",
      "execution_count": 9,
      "metadata": {
        "colab": {
          "base_uri": "https://localhost:8080/"
        },
        "id": "xih_EaQ2Ot0p",
        "outputId": "103f1663-2316-499f-f200-62f566027c4c"
      },
      "outputs": [
        {
          "output_type": "stream",
          "name": "stdout",
          "text": [
            "Number of unique tokens in training data: 2723\n",
            "Number of unique tokens in test data: 2723\n"
          ]
        }
      ],
      "source": [
        "#pre-process test data\n",
        "test['text']=test['text'].str.lower()\n",
        "test['text'] = test['text'].apply(remove_punctuation)\n",
        "test['text'] = test['text'].apply(stopwords_remove)\n",
        "test['text2'] = test['text'].apply(lemmatize_text)\n",
        "\n",
        "vectorizer = CountVectorizer(token_pattern=r'\\b\\w+\\b', min_df=5, max_df=0.5)\n",
        "\n",
        "# fit the vectorizer on the training data and transform the data\n",
        "train_tokens = vectorizer.fit_transform(train['text2'])\n",
        "print(\"Number of unique tokens in training data:\", len(vectorizer.get_feature_names_out()))\n",
        "\n",
        "# transform the test data\n",
        "test_tokens = vectorizer.transform(test['text2'])\n",
        "print(\"Number of unique tokens in test data:\", len(vectorizer.get_feature_names_out()))\n"
      ]
    },
    {
      "cell_type": "markdown",
      "metadata": {
        "id": "5_RA1H8zRMAo"
      },
      "source": [
        "Part 2: Supervised Learning"
      ]
    },
    {
      "cell_type": "markdown",
      "metadata": {
        "id": "6sHQ2A55RPIN"
      },
      "source": [
        "7."
      ]
    },
    {
      "cell_type": "code",
      "execution_count": 10,
      "metadata": {
        "colab": {
          "base_uri": "https://localhost:8080/",
          "height": 337
        },
        "id": "gFhqXWyERLsg",
        "outputId": "a361c8f2-b952-455d-adeb-77ed41ddfde5"
      },
      "outputs": [
        {
          "output_type": "execute_result",
          "data": {
            "text/plain": [
              "   score                                               text  \\\n",
              "0   11.0  dear editor ever would know something badly ca...   \n",
              "1    9.0  computers everyone dont think heres gonna conv...   \n",
              "2   11.0  say computers bad todays society im prove wron...   \n",
              "3   10.0  dear editor ever stopped asked important cours...   \n",
              "4   12.0  study conducted organization1 num1 num2 people...   \n",
              "\n",
              "                                               text2  sentiment  \n",
              "0  dear editor ever would know something badly ca...   0.189949  \n",
              "1  computer everyone dont think here gonna convin...   0.345833  \n",
              "2  say computer bad today society im prove wrong ...   0.209170  \n",
              "3  dear editor ever stopped asked important cours...   0.193869  \n",
              "4  study conducted organization1 num1 num2 people...   0.148685  "
            ],
            "text/html": [
              "\n",
              "  <div id=\"df-cac2c8ab-c39f-4ce1-8377-56bddd9a8c0e\">\n",
              "    <div class=\"colab-df-container\">\n",
              "      <div>\n",
              "<style scoped>\n",
              "    .dataframe tbody tr th:only-of-type {\n",
              "        vertical-align: middle;\n",
              "    }\n",
              "\n",
              "    .dataframe tbody tr th {\n",
              "        vertical-align: top;\n",
              "    }\n",
              "\n",
              "    .dataframe thead th {\n",
              "        text-align: right;\n",
              "    }\n",
              "</style>\n",
              "<table border=\"1\" class=\"dataframe\">\n",
              "  <thead>\n",
              "    <tr style=\"text-align: right;\">\n",
              "      <th></th>\n",
              "      <th>score</th>\n",
              "      <th>text</th>\n",
              "      <th>text2</th>\n",
              "      <th>sentiment</th>\n",
              "    </tr>\n",
              "  </thead>\n",
              "  <tbody>\n",
              "    <tr>\n",
              "      <th>0</th>\n",
              "      <td>11.0</td>\n",
              "      <td>dear editor ever would know something badly ca...</td>\n",
              "      <td>dear editor ever would know something badly ca...</td>\n",
              "      <td>0.189949</td>\n",
              "    </tr>\n",
              "    <tr>\n",
              "      <th>1</th>\n",
              "      <td>9.0</td>\n",
              "      <td>computers everyone dont think heres gonna conv...</td>\n",
              "      <td>computer everyone dont think here gonna convin...</td>\n",
              "      <td>0.345833</td>\n",
              "    </tr>\n",
              "    <tr>\n",
              "      <th>2</th>\n",
              "      <td>11.0</td>\n",
              "      <td>say computers bad todays society im prove wron...</td>\n",
              "      <td>say computer bad today society im prove wrong ...</td>\n",
              "      <td>0.209170</td>\n",
              "    </tr>\n",
              "    <tr>\n",
              "      <th>3</th>\n",
              "      <td>10.0</td>\n",
              "      <td>dear editor ever stopped asked important cours...</td>\n",
              "      <td>dear editor ever stopped asked important cours...</td>\n",
              "      <td>0.193869</td>\n",
              "    </tr>\n",
              "    <tr>\n",
              "      <th>4</th>\n",
              "      <td>12.0</td>\n",
              "      <td>study conducted organization1 num1 num2 people...</td>\n",
              "      <td>study conducted organization1 num1 num2 people...</td>\n",
              "      <td>0.148685</td>\n",
              "    </tr>\n",
              "  </tbody>\n",
              "</table>\n",
              "</div>\n",
              "      <button class=\"colab-df-convert\" onclick=\"convertToInteractive('df-cac2c8ab-c39f-4ce1-8377-56bddd9a8c0e')\"\n",
              "              title=\"Convert this dataframe to an interactive table.\"\n",
              "              style=\"display:none;\">\n",
              "        \n",
              "  <svg xmlns=\"http://www.w3.org/2000/svg\" height=\"24px\"viewBox=\"0 0 24 24\"\n",
              "       width=\"24px\">\n",
              "    <path d=\"M0 0h24v24H0V0z\" fill=\"none\"/>\n",
              "    <path d=\"M18.56 5.44l.94 2.06.94-2.06 2.06-.94-2.06-.94-.94-2.06-.94 2.06-2.06.94zm-11 1L8.5 8.5l.94-2.06 2.06-.94-2.06-.94L8.5 2.5l-.94 2.06-2.06.94zm10 10l.94 2.06.94-2.06 2.06-.94-2.06-.94-.94-2.06-.94 2.06-2.06.94z\"/><path d=\"M17.41 7.96l-1.37-1.37c-.4-.4-.92-.59-1.43-.59-.52 0-1.04.2-1.43.59L10.3 9.45l-7.72 7.72c-.78.78-.78 2.05 0 2.83L4 21.41c.39.39.9.59 1.41.59.51 0 1.02-.2 1.41-.59l7.78-7.78 2.81-2.81c.8-.78.8-2.07 0-2.86zM5.41 20L4 18.59l7.72-7.72 1.47 1.35L5.41 20z\"/>\n",
              "  </svg>\n",
              "      </button>\n",
              "      \n",
              "  <style>\n",
              "    .colab-df-container {\n",
              "      display:flex;\n",
              "      flex-wrap:wrap;\n",
              "      gap: 12px;\n",
              "    }\n",
              "\n",
              "    .colab-df-convert {\n",
              "      background-color: #E8F0FE;\n",
              "      border: none;\n",
              "      border-radius: 50%;\n",
              "      cursor: pointer;\n",
              "      display: none;\n",
              "      fill: #1967D2;\n",
              "      height: 32px;\n",
              "      padding: 0 0 0 0;\n",
              "      width: 32px;\n",
              "    }\n",
              "\n",
              "    .colab-df-convert:hover {\n",
              "      background-color: #E2EBFA;\n",
              "      box-shadow: 0px 1px 2px rgba(60, 64, 67, 0.3), 0px 1px 3px 1px rgba(60, 64, 67, 0.15);\n",
              "      fill: #174EA6;\n",
              "    }\n",
              "\n",
              "    [theme=dark] .colab-df-convert {\n",
              "      background-color: #3B4455;\n",
              "      fill: #D2E3FC;\n",
              "    }\n",
              "\n",
              "    [theme=dark] .colab-df-convert:hover {\n",
              "      background-color: #434B5C;\n",
              "      box-shadow: 0px 1px 3px 1px rgba(0, 0, 0, 0.15);\n",
              "      filter: drop-shadow(0px 1px 2px rgba(0, 0, 0, 0.3));\n",
              "      fill: #FFFFFF;\n",
              "    }\n",
              "  </style>\n",
              "\n",
              "      <script>\n",
              "        const buttonEl =\n",
              "          document.querySelector('#df-cac2c8ab-c39f-4ce1-8377-56bddd9a8c0e button.colab-df-convert');\n",
              "        buttonEl.style.display =\n",
              "          google.colab.kernel.accessAllowed ? 'block' : 'none';\n",
              "\n",
              "        async function convertToInteractive(key) {\n",
              "          const element = document.querySelector('#df-cac2c8ab-c39f-4ce1-8377-56bddd9a8c0e');\n",
              "          const dataTable =\n",
              "            await google.colab.kernel.invokeFunction('convertToInteractive',\n",
              "                                                     [key], {});\n",
              "          if (!dataTable) return;\n",
              "\n",
              "          const docLinkHtml = 'Like what you see? Visit the ' +\n",
              "            '<a target=\"_blank\" href=https://colab.research.google.com/notebooks/data_table.ipynb>data table notebook</a>'\n",
              "            + ' to learn more about interactive tables.';\n",
              "          element.innerHTML = '';\n",
              "          dataTable['output_type'] = 'display_data';\n",
              "          await google.colab.output.renderOutput(dataTable, element);\n",
              "          const docLink = document.createElement('div');\n",
              "          docLink.innerHTML = docLinkHtml;\n",
              "          element.appendChild(docLink);\n",
              "        }\n",
              "      </script>\n",
              "    </div>\n",
              "  </div>\n",
              "  "
            ]
          },
          "metadata": {},
          "execution_count": 10
        }
      ],
      "source": [
        "from textblob import TextBlob\n",
        "# create sentiment feature\n",
        "train['sentiment'] = train['text2'].apply(lambda x: TextBlob(x).sentiment.polarity)\n",
        "test['sentiment'] = test['text2'].apply(lambda x: TextBlob(x).sentiment.polarity)\n",
        "train.head()\n",
        "test.head()"
      ]
    },
    {
      "cell_type": "markdown",
      "metadata": {
        "id": "4dF52Lbl1bIq"
      },
      "source": [
        "8."
      ]
    },
    {
      "cell_type": "code",
      "execution_count": 11,
      "metadata": {
        "colab": {
          "base_uri": "https://localhost:8080/",
          "height": 558
        },
        "id": "4pnyISj41aEG",
        "outputId": "28d2417a-630f-445e-b871-d5c765b948be"
      },
      "outputs": [
        {
          "output_type": "stream",
          "name": "stdout",
          "text": [
            "MSE: 0.9670\n"
          ]
        },
        {
          "output_type": "display_data",
          "data": {
            "text/plain": [
              "<Figure size 640x480 with 1 Axes>"
            ],
            "image/png": "[encoded data removed]"
          },
          "metadata": {}
        },
        {
          "output_type": "stream",
          "name": "stdout",
          "text": [
            "I used GridSearchCV to find the optimal value of alpha. \n",
            "I am evaluating the performance using mean squared error (MSE).\n",
            "The regularization coefficient alpha was chosen from the values [0.001, 0.01, 0.1, 1.0, 10.0, 100.0]. \n",
            "The model performs reasonably well with a MSE of 0.9670, and the histogram shows a roughly normal distribution of errors around 0.\n"
          ]
        }
      ],
      "source": [
        "from sklearn.feature_extraction.text import CountVectorizer\n",
        "import matplotlib.pyplot as plt\n",
        "import numpy as np\n",
        "from sklearn.metrics import mean_squared_error\n",
        "from sklearn.linear_model import Ridge\n",
        "from sklearn.model_selection import GridSearchCV\n",
        "\n",
        "vectorizer = CountVectorizer()\n",
        "train_features = vectorizer.fit_transform(train['text2'])\n",
        "test_features = vectorizer.transform(test['text2'])\n",
        "\n",
        "param_grid = {'alpha': [0.001, 0.01, 0.1, 1.0, 10.0, 100.0]}\n",
        "model = GridSearchCV(Ridge(), param_grid, cv=10, scoring='neg_mean_squared_error')\n",
        "model.fit(train_features, train['score'])\n",
        "\n",
        "test_predictions = model.predict(test_features)\n",
        "\n",
        "mse = mean_squared_error(test['score'], test_predictions)\n",
        "print(f\"MSE: {mse:.4f}\")\n",
        "\n",
        "error = test_predictions - test['score']\n",
        "plt.hist(error, bins=np.arange(-1.5, 2.0, 0.1))\n",
        "plt.xlabel('Error')\n",
        "plt.ylabel('Count')\n",
        "plt.show()\n",
        "\n",
        "print(\"I used GridSearchCV to find the optimal value of alpha. \\nI am evaluating the performance using mean squared error (MSE).\\nThe regularization coefficient alpha was chosen from the values [0.001, 0.01, 0.1, 1.0, 10.0, 100.0]. \\nThe model performs reasonably well with a MSE of 0.9670, and the histogram shows a roughly normal distribution of errors around 0.\")\n"
      ]
    },
    {
      "cell_type": "code",
      "execution_count": 12,
      "metadata": {
        "colab": {
          "base_uri": "https://localhost:8080/",
          "height": 523
        },
        "id": "AHHHTlN5qIQH",
        "outputId": "f8ba5c58-7d2d-4403-b67b-5e05135a320f"
      },
      "outputs": [
        {
          "output_type": "stream",
          "name": "stdout",
          "text": [
            "MSE: 0.9651\n"
          ]
        },
        {
          "output_type": "display_data",
          "data": {
            "text/plain": [
              "<Figure size 640x480 with 1 Axes>"
            ],
            "image/png": "[encoded data removed]"
          },
          "metadata": {}
        },
        {
          "output_type": "stream",
          "name": "stdout",
          "text": [
            "By adding the sentiment feature to the model, the mean squared error (MSE) decreased from 0.9670 to 0.9651, \n",
            "indicating that the sentiment feature has a small but noticeable impact on improving the model's predictive performance\n"
          ]
        }
      ],
      "source": [
        "#adding the sentiment feature \n",
        "from scipy.sparse import hstack\n",
        "\n",
        "# Tokenize the sentiment values\n",
        "vectorizer = CountVectorizer(token_pattern=r\"(?u)\\b\\w+\\b\")\n",
        "train_sentiment = vectorizer.fit_transform(train['sentiment'].astype(str))\n",
        "test_sentiment = vectorizer.transform(test['sentiment'].astype(str))\n",
        "\n",
        "train_features = hstack((train_features, train_sentiment))\n",
        "test_features = hstack((test_features, test_sentiment))\n",
        "\n",
        "param_grid = {'alpha': [0.001, 0.01, 0.1, 1.0, 10.0, 100.0]}\n",
        "model = GridSearchCV(Ridge(), param_grid, cv=10, scoring='neg_mean_squared_error')\n",
        "model.fit(train_features, train['score'])\n",
        "\n",
        "test_predictions = model.predict(test_features)\n",
        "mse = mean_squared_error(test['score'], test_predictions)\n",
        "print(f\"MSE: {mse:.4f}\")\n",
        "\n",
        "error = test_predictions - test['score']\n",
        "plt.hist(error, bins=np.arange(-1.5, 2.0, 0.1))\n",
        "plt.xlabel('Error')\n",
        "plt.ylabel('Count')\n",
        "plt.show()\n",
        "print(\"By adding the sentiment feature to the model, the mean squared error (MSE) decreased from 0.9670 to 0.9651, \\nindicating that the sentiment feature has a small but noticeable impact on improving the model's predictive performance\")"
      ]
    },
    {
      "cell_type": "markdown",
      "metadata": {
        "id": "66juEQrZ9iL6"
      },
      "source": [
        "9."
      ]
    },
    {
      "cell_type": "code",
      "execution_count": 13,
      "metadata": {
        "colab": {
          "base_uri": "https://localhost:8080/",
          "height": 523
        },
        "id": "myKTrMfnnNbd",
        "outputId": "7309166a-ff50-475c-8bcf-779ecd6456cd"
      },
      "outputs": [
        {
          "output_type": "stream",
          "name": "stdout",
          "text": [
            "MSE: 0.7845\n"
          ]
        },
        {
          "output_type": "display_data",
          "data": {
            "text/plain": [
              "<Figure size 640x480 with 1 Axes>"
            ],
            "image/png": "[encoded data removed]"
          },
          "metadata": {}
        },
        {
          "output_type": "stream",
          "name": "stdout",
          "text": [
            "After using the SVR model with grid search to find the best hyperparameters, the mean squared error (MSE) improved from 0.9670 to 0.7845. \n",
            "This indicates that the SVR model performs better than the Ridge regression model for this particular task.\n"
          ]
        }
      ],
      "source": [
        "#using SVR\n",
        "from sklearn.svm import SVR\n",
        "\n",
        "vectorizer = CountVectorizer()\n",
        "train_features = vectorizer.fit_transform(train['text2'])\n",
        "test_features = vectorizer.transform(test['text2'])\n",
        "\n",
        "svr = SVR(kernel='rbf')\n",
        "param_grid = {'C': [0.1, 1, 10], 'gamma': [0.1, 1, 'scale']}\n",
        "model = GridSearchCV(svr, param_grid, cv=10, scoring='neg_mean_squared_error')\n",
        "model.fit(train_features, train['score'])\n",
        "\n",
        "test_predictions = model.predict(test_features)\n",
        "\n",
        "mse = mean_squared_error(test['score'], test_predictions)\n",
        "print(f\"MSE: {mse:.4f}\")\n",
        "\n",
        "error = test_predictions - test['score']\n",
        "plt.hist(error, bins=np.arange(-1.5, 2.0, 0.1))\n",
        "plt.xlabel('Error')\n",
        "plt.ylabel('Count')\n",
        "plt.show()\n",
        "print(\"After using the SVR model with grid search to find the best hyperparameters, the mean squared error (MSE) improved from 0.9670 to 0.7845. \\nThis indicates that the SVR model performs better than the Ridge regression model for this particular task.\")"
      ]
    },
    {
      "cell_type": "code",
      "execution_count": 14,
      "metadata": {
        "id": "dI2WZvjYt5F8",
        "colab": {
          "base_uri": "https://localhost:8080/",
          "height": 523
        },
        "outputId": "b7e6a798-37f2-4729-c64e-d889dd63887d"
      },
      "outputs": [
        {
          "output_type": "stream",
          "name": "stdout",
          "text": [
            "MSE: 0.7838\n"
          ]
        },
        {
          "output_type": "display_data",
          "data": {
            "text/plain": [
              "<Figure size 640x480 with 1 Axes>"
            ],
            "image/png": "[encoded data removed]"
          },
          "metadata": {}
        },
        {
          "output_type": "stream",
          "name": "stdout",
          "text": [
            "By adding the sentiment feature to the SVR model, the mean squared error (MSE) decreased from 0.7845 to 0.7838,\n",
            " therefore improving the model's predictive performance slightly.\n"
          ]
        }
      ],
      "source": [
        "#adding the sentiment feature \n",
        "vectorizer = CountVectorizer(token_pattern=r\"(?u)\\b\\w+\\b\")\n",
        "train_sentiment = vectorizer.fit_transform(train['sentiment'].astype(str))\n",
        "test_sentiment = vectorizer.transform(test['sentiment'].astype(str))\n",
        "\n",
        "vectorizer = CountVectorizer()\n",
        "train_features = vectorizer.fit_transform(train['text2'])\n",
        "test_features = vectorizer.transform(test['text2'])\n",
        "\n",
        "train_features = hstack((train_features, train_sentiment))\n",
        "test_features = hstack((test_features, test_sentiment))\n",
        "\n",
        "svr = SVR(kernel='rbf')\n",
        "param_grid = {'C': [0.1, 1, 10], 'gamma': [0.1, 1, 'scale']}\n",
        "model = GridSearchCV(svr, param_grid, cv=10, scoring='neg_mean_squared_error')\n",
        "model.fit(train_features, train['score'])\n",
        "\n",
        "test_predictions = model.predict(test_features)\n",
        "\n",
        "mse = mean_squared_error(test['score'], test_predictions)\n",
        "print(f\"MSE: {mse:.4f}\")\n",
        "\n",
        "error = test_predictions - test['score']\n",
        "plt.hist(error, bins=np.arange(-1.5, 2.0, 0.1))\n",
        "plt.xlabel('Error')\n",
        "plt.ylabel('Count')\n",
        "plt.show()\n",
        "\n",
        "print(\"By adding the sentiment feature to the SVR model, the mean squared error (MSE) decreased from 0.7845 to 0.7838,\\n therefore improving the model's predictive performance slightly.\")\n"
      ]
    },
    {
      "cell_type": "markdown",
      "metadata": {
        "id": "wuzul17evc7j"
      },
      "source": [
        "10.\n"
      ]
    },
    {
      "cell_type": "code",
      "execution_count": 17,
      "metadata": {
        "id": "Gh1bMjtave_E",
        "colab": {
          "base_uri": "https://localhost:8080/",
          "height": 470
        },
        "outputId": "d327af7e-ceda-44de-ad90-04611e30fd65"
      },
      "outputs": [
        {
          "output_type": "display_data",
          "data": {
            "text/plain": [
              "<Figure size 640x480 with 1 Axes>"
            ],
            "image/png": "[encoded data removed]"
          },
          "metadata": {}
        },
        {
          "output_type": "stream",
          "name": "stdout",
          "text": [
            "SVR with sentiment performs the best, whereas ridge without sentiment performs the worst\n"
          ]
        }
      ],
      "source": [
        "mse_ridge_sentiment = 0.9651\n",
        "mse_ridge = 0.9670\n",
        "mse_svr_sentiment = 0.7838\n",
        "mse_svr = 0.7845\n",
        "\n",
        "# Create a bar plot\n",
        "x = np.arange(4)\n",
        "models = [ 'Ridge','Ridge Sentiment', 'SVR','SVR Sentiment']\n",
        "mse_values = [ mse_ridge, mse_ridge_sentiment, mse_svr, mse_svr_sentiment ]\n",
        "plt.bar(x, mse_values, align='center', alpha=0.5)\n",
        "plt.xticks(x, models)\n",
        "plt.ylabel('MSE')\n",
        "plt.title('Model Performance Comparison')\n",
        "\n",
        "# Display the plot\n",
        "plt.show()\n",
        "print(\"SVR with sentiment performs the best, whereas ridge without sentiment performs the worst\")"
      ]
    },
    {
      "cell_type": "markdown",
      "source": [
        "Part 3: Deep Sentence Embedder"
      ],
      "metadata": {
        "id": "-Tg3ehDx9NyM"
      }
    },
    {
      "cell_type": "markdown",
      "source": [
        "13."
      ],
      "metadata": {
        "id": "MDy3oj9p9_0K"
      }
    },
    {
      "cell_type": "code",
      "source": [
        "vectorizer = CountVectorizer()\n",
        "train_features = vectorizer.fit_transform(train['text2'])\n",
        "test_features = vectorizer.transform(test['text2'])\n",
        "\n",
        "svr = SVR(kernel='rbf')\n",
        "param_grid = {'C': [0.1, 1, 10], 'gamma': [0.1, 1, 'scale']}\n",
        "model1 = GridSearchCV(svr, param_grid, cv=10, scoring='neg_mean_squared_error')\n",
        "model1.fit(train_features, train['score'])\n",
        "\n",
        "test_predictions = model1.predict(test_features)\n",
        "\n",
        "mse = mean_squared_error(test['score'], test_predictions)\n",
        "print(f\"MSE: {mse:.4f}\")\n",
        "\n",
        "error = test_predictions - test['score']\n",
        "plt.hist(error, bins=np.arange(-1.5, 2.0, 0.1))\n",
        "plt.xlabel('Error')\n",
        "plt.ylabel('Count')\n",
        "plt.show()\n",
        "\n",
        "\n",
        "print(\"I have chosen the Support Vector Regression regressor without sentiment feature\\n because adding sentiment only improved the performance slightly.\")\n"
      ],
      "metadata": {
        "colab": {
          "base_uri": "https://localhost:8080/",
          "height": 503
        },
        "id": "ojb-dhZ_9Qp-",
        "outputId": "3160c55b-b343-48d8-c0d8-7829eb862578"
      },
      "execution_count": 19,
      "outputs": [
        {
          "output_type": "stream",
          "name": "stdout",
          "text": [
            "MSE: 0.7845\n"
          ]
        },
        {
          "output_type": "display_data",
          "data": {
            "text/plain": [
              "<Figure size 640x480 with 1 Axes>"
            ],
            "image/png": "[encoded data removed]"
          },
          "metadata": {}
        },
        {
          "output_type": "stream",
          "name": "stdout",
          "text": [
            "I have chosen the Support Vector Regression regressor without sentiment feature\n",
            " because adding sentiment only improved the performance slightly.\n"
          ]
        }
      ]
    },
    {
      "cell_type": "markdown",
      "source": [
        "14."
      ],
      "metadata": {
        "id": "FuX4DK4e-4K3"
      }
    },
    {
      "cell_type": "code",
      "source": [
        "import tensorflow_hub as hub\n",
        "\n",
        "module_url = \"https://tfhub.dev/google/universal-sentence-encoder/4\"\n",
        "model = hub.load(module_url)\n"
      ],
      "metadata": {
        "id": "mzvVkGiy-E3-"
      },
      "execution_count": 20,
      "outputs": []
    },
    {
      "cell_type": "markdown",
      "source": [
        "15."
      ],
      "metadata": {
        "id": "Y-hmR1zw_6Rp"
      }
    },
    {
      "cell_type": "code",
      "source": [
        "# Embedding the training data\n",
        "train_embeddings = model(train['text2'])\n"
      ],
      "metadata": {
        "id": "7P2zsg2a_5zV"
      },
      "execution_count": 21,
      "outputs": []
    },
    {
      "cell_type": "markdown",
      "source": [
        "16."
      ],
      "metadata": {
        "id": "Iyt4EHCeCTNe"
      }
    },
    {
      "cell_type": "code",
      "source": [
        "# Embedding the training and test data\n",
        "train_embeddings = np.array(model(train['text2']))\n",
        "test_embeddings = np.array(model(test['text2']))\n",
        "\n",
        "param_grid = {'C': [0.1, 1, 10], 'gamma': [0.1, 1, 'scale']}\n",
        "\n",
        "svr = SVR(kernel='rbf')\n",
        "grid_search = GridSearchCV(svr, param_grid, cv=10, scoring='neg_mean_squared_error')\n",
        "\n",
        "grid_search.fit(train_embeddings, train['score'])\n",
        "best_params = grid_search.best_params_\n",
        "print(\"Best hyperparameters:\", best_params)\n",
        "test_predictions = grid_search.predict(test_embeddings)\n",
        "\n",
        "mse = mean_squared_error(test['score'], test_predictions)\n",
        "print(f\"MSE: {mse:.4f}\")\n",
        "print(\"Surprisingly, model with deep embeddings as a feature does not perform as good as the SVR model.\\nThough it does perform better than the ridge model we used in part 2.\")"
      ],
      "metadata": {
        "colab": {
          "base_uri": "https://localhost:8080/"
        },
        "id": "iSK3dTxBCC0M",
        "outputId": "f4d5b472-f9e6-42d3-968f-38ba1170e9ab"
      },
      "execution_count": 23,
      "outputs": [
        {
          "output_type": "stream",
          "name": "stdout",
          "text": [
            "Best hyperparameters: {'C': 10, 'gamma': 0.1}\n",
            "MSE: 0.8540\n",
            "Surprisingly, model with deep embeddings as a feature does not perform as good as the SVR model.\n",
            "Though it does perform better than the ridge model we used in part 2.\n"
          ]
        }
      ]
    }
  ],
  "metadata": {
    "colab": {
      "provenance": []
    },
    "kernelspec": {
      "display_name": "Python 3",
      "name": "python3"
    },
    "language_info": {
      "name": "python"
    }
  },
  "nbformat": 4,
  "nbformat_minor": 0
}